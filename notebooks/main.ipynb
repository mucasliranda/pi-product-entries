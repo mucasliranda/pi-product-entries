{
 "cells": [
  {
   "cell_type": "code",
   "execution_count": 2,
   "metadata": {},
   "outputs": [],
   "source": [
    "import pandas as pd\n",
    "\n",
    "from sklearn.model_selection import train_test_split\n",
    "from sklearn.linear_model import LinearRegression\n",
    "from sklearn.metrics import mean_squared_error, r2_score\n",
    "import numpy as np\n",
    "from sklearn.ensemble import RandomForestRegressor, GradientBoostingRegressor\n",
    "from sklearn.preprocessing import LabelEncoder\n",
    "\n",
    "from base64 import b64decode\n",
    "\n",
    "def decode_base64(data):\n",
    "    missing_padding = len(data) % 4\n",
    "    if missing_padding != 0:\n",
    "        data += '='* (4 - missing_padding)\n",
    "    return int.from_bytes(b64decode(data), 'big')"
   ]
  },
  {
   "cell_type": "code",
   "execution_count": 3,
   "metadata": {},
   "outputs": [
    {
     "name": "stdout",
     "output_type": "stream",
     "text": [
      "True\n",
      "2694769887921308754649648236518067152934926705487553224373\n",
      "2694769887921308754649648236518067152934926705487553224374\n",
      "2962930825950107269821114141119787861005907558195596562885061774770601\n"
     ]
    }
   ],
   "source": [
    "# VAMOS UTILIZAR O decode_base64() PARA TRANSFORMAR O product_id\n",
    "# EM UM INTEIRO (hexidecimal) PARA UTILIZAR NO MODELO DE MACHINE LEARNING\n",
    "\n",
    "# por desencargo de consciência, vamos verificar se a função está correta\n",
    "print(decode_base64('bea127ac-db11-4671-b988-11046e2d2961') == 2694769887921308754649648236518067152934926705487553224373)\n",
    "print(decode_base64('bea127ac-db11-4671-b988-11046e2d2961'))\n",
    "print(decode_base64('bea127ac-db11-4671-b988-11046e2d2962'))\n",
    "print(decode_base64('bea127ac-db11-4671-b988-slgkasgskalgmas;lgam,'))"
   ]
  },
  {
   "cell_type": "code",
   "execution_count": 4,
   "metadata": {},
   "outputs": [
    {
     "name": "stdout",
     "output_type": "stream",
     "text": [
      "                             product_id  quantity             entry_at\n",
      "0  bea127ac-db11-4671-b988-11046e2d2961      2033  2024-03-18 03:43:53\n",
      "1  bea127ac-db11-4671-b988-11046e2d2961      2226  2024-03-16 04:38:12\n",
      "2  bea127ac-db11-4671-b988-11046e2d2961      1697  2024-02-22 05:03:53\n",
      "3  bea127ac-db11-4671-b988-11046e2d2961      2900  2024-04-17 10:03:26\n",
      "4  bea127ac-db11-4671-b988-11046e2d2961      1978  2024-03-01 02:56:35\n"
     ]
    }
   ],
   "source": [
    "data = pd.read_csv('product_entries.csv')\n",
    "\n",
    "data = data.drop(columns=['name'])\n",
    "\n",
    "print(data.head(5))  \n",
    "\n",
    "# Agrupar por 'name' e somar as quantidades\n",
    "grouped_data = data.groupby('product_id')['quantity'].sum().reset_index()"
   ]
  },
  {
   "cell_type": "code",
   "execution_count": 5,
   "metadata": {},
   "outputs": [
    {
     "name": "stdout",
     "output_type": "stream",
     "text": [
      "                             product_id  quantity  year  month  day  hour\n",
      "0  bea127ac-db11-4671-b988-11046e2d2961      2033  2024      3   18     3\n",
      "1  bea127ac-db11-4671-b988-11046e2d2961      2226  2024      3   16     4\n",
      "2  bea127ac-db11-4671-b988-11046e2d2961      1697  2024      2   22     5\n",
      "3  bea127ac-db11-4671-b988-11046e2d2961      2900  2024      4   17    10\n",
      "4  bea127ac-db11-4671-b988-11046e2d2961      1978  2024      3    1     2\n"
     ]
    }
   ],
   "source": [
    "# Converter a coluna 'entry_at' para datetime\n",
    "data['entry_at'] = pd.to_datetime(data['entry_at'])\n",
    "\n",
    "# Extrair características relevantes da data, como ano, mês, dia e hora\n",
    "data['year'] = data['entry_at'].dt.year\n",
    "data['month'] = data['entry_at'].dt.month\n",
    "data['day'] = data['entry_at'].dt.day\n",
    "data['hour'] = data['entry_at'].dt.hour\n",
    "\n",
    "# Dropar as colunas que não serão usadas\n",
    "data = data.drop(columns=['entry_at'])\n",
    "\n",
    "# Exibir os primeiros registros para verificar as transformações\n",
    "print(data.head())"
   ]
  },
  {
   "cell_type": "code",
   "execution_count": 6,
   "metadata": {},
   "outputs": [],
   "source": [
    "data['product_id'] = data['product_id'].apply(decode_base64)\n",
    "\n",
    "# Definir as variáveis dependente (y) e independentes (X)\n",
    "X = data.drop(columns=['quantity'])\n",
    "y = data['quantity']\n",
    "\n",
    "# Dividir os dados em conjuntos de treino e teste\n",
    "X_train, X_test, y_train, y_test = train_test_split(X, y, test_size=0.2, random_state=42)"
   ]
  },
  {
   "cell_type": "code",
   "execution_count": 7,
   "metadata": {},
   "outputs": [
    {
     "name": "stdout",
     "output_type": "stream",
     "text": [
      "Linear Regression RMSE: 882.41648825516, R²: -0.016927187419655043\n"
     ]
    }
   ],
   "source": [
    "# Inicializar o modelo\n",
    "lr = LinearRegression()\n",
    "\n",
    "# Treinar o modelo\n",
    "lr.fit(X_train, y_train)\n",
    "\n",
    "# Fazer previsões\n",
    "y_pred_lr = lr.predict(X_test)\n",
    "\n",
    "# Calcular as métricas\n",
    "rmse_lr = np.sqrt(mean_squared_error(y_test, y_pred_lr))\n",
    "r2_lr = r2_score(y_test, y_pred_lr)\n",
    "\n",
    "print(f\"Linear Regression RMSE: {rmse_lr}, R²: {r2_lr}\")"
   ]
  },
  {
   "cell_type": "code",
   "execution_count": 13,
   "metadata": {},
   "outputs": [
    {
     "name": "stdout",
     "output_type": "stream",
     "text": [
      "A quantidade prevista para o novo produto é: [1535.74750947]\n"
     ]
    }
   ],
   "source": [
    "# Suponha que temos um novo produto com as seguintes características\n",
    "novo_produto = pd.DataFrame({\n",
    "    'product_id': [decode_base64('bea127ac-db11-4671-b988-11046e2d2961')],\n",
    "    'year': [2024],\n",
    "    'month': [3],\n",
    "    'day': [18],\n",
    "    'hour': [3]\n",
    "})\n",
    "\n",
    "\n",
    "# Precisamos preparar o novo produto da mesma maneira que preparamos os dados de treinamento\n",
    "# Isso pode incluir a conversão de 'entry_at' para um formato de data e hora e a codificação de 'product_id'\n",
    "\n",
    "# Usamos o modelo para prever a quantidade\n",
    "quantidade_prevista = lr.predict(novo_produto)\n",
    "\n",
    "print(f\"A quantidade prevista para o novo produto é: {quantidade_prevista}\")"
   ]
  }
 ],
 "metadata": {
  "kernelspec": {
   "display_name": "Python 3",
   "language": "python",
   "name": "python3"
  },
  "language_info": {
   "codemirror_mode": {
    "name": "ipython",
    "version": 3
   },
   "file_extension": ".py",
   "mimetype": "text/x-python",
   "name": "python",
   "nbconvert_exporter": "python",
   "pygments_lexer": "ipython3",
   "version": "3.10.13"
  }
 },
 "nbformat": 4,
 "nbformat_minor": 2
}
